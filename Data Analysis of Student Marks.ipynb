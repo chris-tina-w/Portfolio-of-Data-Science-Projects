{
 "cells": [
  {
   "cell_type": "code",
   "execution_count": 7,
   "id": "d0732dce-47a3-4a0d-96e5-0f97b84de2ab",
   "metadata": {},
   "outputs": [
    {
     "name": "stderr",
     "output_type": "stream",
     "text": [
      "\u001b[1mRows: \u001b[22m\u001b[34m10\u001b[39m \u001b[1mColumns: \u001b[22m\u001b[34m6\u001b[39m\n",
      "\u001b[36m──\u001b[39m \u001b[1mColumn specification\u001b[22m \u001b[36m──────────────────────────────────────────────────────────────────────────────────────────────────\u001b[39m\n",
      "\u001b[1mDelimiter:\u001b[22m \",\"\n",
      "\u001b[31mchr\u001b[39m (2): Studentname, dob\n",
      "\u001b[32mdbl\u001b[39m (4): StudentID, 2020, 2021, 2022\n",
      "\n",
      "\u001b[36mℹ\u001b[39m Use `spec()` to retrieve the full column specification for this data.\n",
      "\u001b[36mℹ\u001b[39m Specify the column types or set `show_col_types = FALSE` to quiet this message.\n"
     ]
    }
   ],
   "source": [
    "library(tidyr)\n",
    "library(dplyr)\n",
    "library(readr)\n",
    "#import dataset\n",
    "studentmarks <- read_csv(\"C:\\\\Users\\\\chris\\\\Documents\\\\GitHub\\\\portfolio-files\\\\Studentmarks.csv\")"
   ]
  },
  {
   "cell_type": "code",
   "execution_count": 5,
   "id": "a1a0cf58-cca1-4182-83e6-60fdac5dc845",
   "metadata": {},
   "outputs": [
    {
     "data": {
      "text/html": [
       "'C:/Users/chris/Documents/GitHub/Portfolio-of-Data-Science-Projects'"
      ],
      "text/latex": [
       "'C:/Users/chris/Documents/GitHub/Portfolio-of-Data-Science-Projects'"
      ],
      "text/markdown": [
       "'C:/Users/chris/Documents/GitHub/Portfolio-of-Data-Science-Projects'"
      ],
      "text/plain": [
       "[1] \"C:/Users/chris/Documents/GitHub/Portfolio-of-Data-Science-Projects\""
      ]
     },
     "metadata": {},
     "output_type": "display_data"
    }
   ],
   "source": [
    "getwd()"
   ]
  },
  {
   "cell_type": "code",
   "execution_count": null,
   "id": "861a6f71-da95-43b7-bef8-48a40142f965",
   "metadata": {},
   "outputs": [],
   "source": []
  }
 ],
 "metadata": {
  "kernelspec": {
   "display_name": "R",
   "language": "R",
   "name": "ir"
  },
  "language_info": {
   "codemirror_mode": "r",
   "file_extension": ".r",
   "mimetype": "text/x-r-source",
   "name": "R",
   "pygments_lexer": "r",
   "version": "4.4.0"
  }
 },
 "nbformat": 4,
 "nbformat_minor": 5
}
