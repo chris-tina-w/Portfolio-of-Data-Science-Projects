{
 "cells": [
  {
   "cell_type": "markdown",
   "id": "0d689d8f-41bd-4e5a-b09b-6195cdfcdced",
   "metadata": {},
   "source": [
    "# Transaction Fraud Anomaly Detection"
   ]
  },
  {
   "cell_type": "markdown",
   "id": "a886644a-995d-4124-836e-d2f1d3c2a144",
   "metadata": {},
   "source": [
    "In this project, I will build a simple anomaly detection algorithm and then apply it to a credit card transaction dataset containing 284,807 transactions, of which 492 (0.172%) are fraudulent. \n",
    "\n",
    "The dataset includes 30 numerical features derived from PCA transformation (which cannot be revealed due to confidentiality reasons), with the exception of 'Time' (elapsed time in seconds) and 'Amount' (transaction value). \n",
    "\n",
    "The target variable, 'Class,' indicates fraud (1) or non-fraud (0).\n",
    "\n",
    "The data was curated through a collaboration between Worldline and ULB’s Machine Learning Group.\n",
    "\n",
    "Resources: https://www.kaggle.com/datasets/mlg-ulb/creditcardfraud/data"
   ]
  },
  {
   "cell_type": "code",
   "execution_count": 274,
   "id": "370cdb27-8908-4703-bcb6-74b2d52234e1",
   "metadata": {},
   "outputs": [],
   "source": [
    "import numpy as np\n",
    "import pandas as pd\n",
    "import matplotlib.pyplot as plt\n",
    "from sklearn.model_selection import train_test_split\n",
    "from sklearn.preprocessing import MinMaxScaler"
   ]
  },
  {
   "cell_type": "code",
   "execution_count": 275,
   "id": "e5d1a838-1a2e-4d54-80fe-696549813d43",
   "metadata": {},
   "outputs": [],
   "source": [
    "credit = pd.read_csv(\"creditcard.csv\")"
   ]
  },
  {
   "cell_type": "code",
   "execution_count": 276,
   "id": "80cb08ff-e320-487f-b73a-0b6a26e3f7cf",
   "metadata": {},
   "outputs": [
    {
     "data": {
      "text/html": [
       "<div>\n",
       "<style scoped>\n",
       "    .dataframe tbody tr th:only-of-type {\n",
       "        vertical-align: middle;\n",
       "    }\n",
       "\n",
       "    .dataframe tbody tr th {\n",
       "        vertical-align: top;\n",
       "    }\n",
       "\n",
       "    .dataframe thead th {\n",
       "        text-align: right;\n",
       "    }\n",
       "</style>\n",
       "<table border=\"1\" class=\"dataframe\">\n",
       "  <thead>\n",
       "    <tr style=\"text-align: right;\">\n",
       "      <th></th>\n",
       "      <th>Time</th>\n",
       "      <th>V1</th>\n",
       "      <th>V2</th>\n",
       "      <th>V3</th>\n",
       "      <th>V4</th>\n",
       "      <th>V5</th>\n",
       "      <th>V6</th>\n",
       "      <th>V7</th>\n",
       "      <th>V8</th>\n",
       "      <th>V9</th>\n",
       "      <th>...</th>\n",
       "      <th>V21</th>\n",
       "      <th>V22</th>\n",
       "      <th>V23</th>\n",
       "      <th>V24</th>\n",
       "      <th>V25</th>\n",
       "      <th>V26</th>\n",
       "      <th>V27</th>\n",
       "      <th>V28</th>\n",
       "      <th>Amount</th>\n",
       "      <th>Class</th>\n",
       "    </tr>\n",
       "  </thead>\n",
       "  <tbody>\n",
       "    <tr>\n",
       "      <th>0</th>\n",
       "      <td>0.0</td>\n",
       "      <td>-1.359807</td>\n",
       "      <td>-0.072781</td>\n",
       "      <td>2.536347</td>\n",
       "      <td>1.378155</td>\n",
       "      <td>-0.338321</td>\n",
       "      <td>0.462388</td>\n",
       "      <td>0.239599</td>\n",
       "      <td>0.098698</td>\n",
       "      <td>0.363787</td>\n",
       "      <td>...</td>\n",
       "      <td>-0.018307</td>\n",
       "      <td>0.277838</td>\n",
       "      <td>-0.110474</td>\n",
       "      <td>0.066928</td>\n",
       "      <td>0.128539</td>\n",
       "      <td>-0.189115</td>\n",
       "      <td>0.133558</td>\n",
       "      <td>-0.021053</td>\n",
       "      <td>149.62</td>\n",
       "      <td>0</td>\n",
       "    </tr>\n",
       "    <tr>\n",
       "      <th>1</th>\n",
       "      <td>0.0</td>\n",
       "      <td>1.191857</td>\n",
       "      <td>0.266151</td>\n",
       "      <td>0.166480</td>\n",
       "      <td>0.448154</td>\n",
       "      <td>0.060018</td>\n",
       "      <td>-0.082361</td>\n",
       "      <td>-0.078803</td>\n",
       "      <td>0.085102</td>\n",
       "      <td>-0.255425</td>\n",
       "      <td>...</td>\n",
       "      <td>-0.225775</td>\n",
       "      <td>-0.638672</td>\n",
       "      <td>0.101288</td>\n",
       "      <td>-0.339846</td>\n",
       "      <td>0.167170</td>\n",
       "      <td>0.125895</td>\n",
       "      <td>-0.008983</td>\n",
       "      <td>0.014724</td>\n",
       "      <td>2.69</td>\n",
       "      <td>0</td>\n",
       "    </tr>\n",
       "    <tr>\n",
       "      <th>2</th>\n",
       "      <td>1.0</td>\n",
       "      <td>-1.358354</td>\n",
       "      <td>-1.340163</td>\n",
       "      <td>1.773209</td>\n",
       "      <td>0.379780</td>\n",
       "      <td>-0.503198</td>\n",
       "      <td>1.800499</td>\n",
       "      <td>0.791461</td>\n",
       "      <td>0.247676</td>\n",
       "      <td>-1.514654</td>\n",
       "      <td>...</td>\n",
       "      <td>0.247998</td>\n",
       "      <td>0.771679</td>\n",
       "      <td>0.909412</td>\n",
       "      <td>-0.689281</td>\n",
       "      <td>-0.327642</td>\n",
       "      <td>-0.139097</td>\n",
       "      <td>-0.055353</td>\n",
       "      <td>-0.059752</td>\n",
       "      <td>378.66</td>\n",
       "      <td>0</td>\n",
       "    </tr>\n",
       "    <tr>\n",
       "      <th>3</th>\n",
       "      <td>1.0</td>\n",
       "      <td>-0.966272</td>\n",
       "      <td>-0.185226</td>\n",
       "      <td>1.792993</td>\n",
       "      <td>-0.863291</td>\n",
       "      <td>-0.010309</td>\n",
       "      <td>1.247203</td>\n",
       "      <td>0.237609</td>\n",
       "      <td>0.377436</td>\n",
       "      <td>-1.387024</td>\n",
       "      <td>...</td>\n",
       "      <td>-0.108300</td>\n",
       "      <td>0.005274</td>\n",
       "      <td>-0.190321</td>\n",
       "      <td>-1.175575</td>\n",
       "      <td>0.647376</td>\n",
       "      <td>-0.221929</td>\n",
       "      <td>0.062723</td>\n",
       "      <td>0.061458</td>\n",
       "      <td>123.50</td>\n",
       "      <td>0</td>\n",
       "    </tr>\n",
       "    <tr>\n",
       "      <th>4</th>\n",
       "      <td>2.0</td>\n",
       "      <td>-1.158233</td>\n",
       "      <td>0.877737</td>\n",
       "      <td>1.548718</td>\n",
       "      <td>0.403034</td>\n",
       "      <td>-0.407193</td>\n",
       "      <td>0.095921</td>\n",
       "      <td>0.592941</td>\n",
       "      <td>-0.270533</td>\n",
       "      <td>0.817739</td>\n",
       "      <td>...</td>\n",
       "      <td>-0.009431</td>\n",
       "      <td>0.798278</td>\n",
       "      <td>-0.137458</td>\n",
       "      <td>0.141267</td>\n",
       "      <td>-0.206010</td>\n",
       "      <td>0.502292</td>\n",
       "      <td>0.219422</td>\n",
       "      <td>0.215153</td>\n",
       "      <td>69.99</td>\n",
       "      <td>0</td>\n",
       "    </tr>\n",
       "  </tbody>\n",
       "</table>\n",
       "<p>5 rows × 31 columns</p>\n",
       "</div>"
      ],
      "text/plain": [
       "   Time        V1        V2        V3        V4        V5        V6        V7  \\\n",
       "0   0.0 -1.359807 -0.072781  2.536347  1.378155 -0.338321  0.462388  0.239599   \n",
       "1   0.0  1.191857  0.266151  0.166480  0.448154  0.060018 -0.082361 -0.078803   \n",
       "2   1.0 -1.358354 -1.340163  1.773209  0.379780 -0.503198  1.800499  0.791461   \n",
       "3   1.0 -0.966272 -0.185226  1.792993 -0.863291 -0.010309  1.247203  0.237609   \n",
       "4   2.0 -1.158233  0.877737  1.548718  0.403034 -0.407193  0.095921  0.592941   \n",
       "\n",
       "         V8        V9  ...       V21       V22       V23       V24       V25  \\\n",
       "0  0.098698  0.363787  ... -0.018307  0.277838 -0.110474  0.066928  0.128539   \n",
       "1  0.085102 -0.255425  ... -0.225775 -0.638672  0.101288 -0.339846  0.167170   \n",
       "2  0.247676 -1.514654  ...  0.247998  0.771679  0.909412 -0.689281 -0.327642   \n",
       "3  0.377436 -1.387024  ... -0.108300  0.005274 -0.190321 -1.175575  0.647376   \n",
       "4 -0.270533  0.817739  ... -0.009431  0.798278 -0.137458  0.141267 -0.206010   \n",
       "\n",
       "        V26       V27       V28  Amount  Class  \n",
       "0 -0.189115  0.133558 -0.021053  149.62      0  \n",
       "1  0.125895 -0.008983  0.014724    2.69      0  \n",
       "2 -0.139097 -0.055353 -0.059752  378.66      0  \n",
       "3 -0.221929  0.062723  0.061458  123.50      0  \n",
       "4  0.502292  0.219422  0.215153   69.99      0  \n",
       "\n",
       "[5 rows x 31 columns]"
      ]
     },
     "execution_count": 276,
     "metadata": {},
     "output_type": "execute_result"
    }
   ],
   "source": [
    "# look at the first few rows\n",
    "credit.head()"
   ]
  },
  {
   "cell_type": "markdown",
   "id": "8e001728-fa23-4628-b746-c06ada6a3efa",
   "metadata": {},
   "source": [
    "### Data Preprocessing"
   ]
  },
  {
   "cell_type": "code",
   "execution_count": 277,
   "id": "3358dbc5-be43-4f75-bcc6-27fd0b925deb",
   "metadata": {},
   "outputs": [],
   "source": [
    "# separate the class attribute and drop amount and time variables\n",
    "X = credit.drop(columns = ['Class','Amount', 'Time'])\n",
    "y = credit['Class']"
   ]
  },
  {
   "cell_type": "code",
   "execution_count": 278,
   "id": "b2005341-d7bd-43a7-8de6-28bd9ac99bec",
   "metadata": {},
   "outputs": [],
   "source": [
    "# split data into training/validation set and test set\n",
    "X_train, X_val, _ , y_val = train_test_split(X, y, test_size=0.2, random_state=24)"
   ]
  },
  {
   "cell_type": "code",
   "execution_count": 279,
   "id": "dfc8f48b-0c04-49f4-9e93-dfa42d85732f",
   "metadata": {},
   "outputs": [
    {
     "name": "stdout",
     "output_type": "stream",
     "text": [
      "The first 5 elements of X_train are:\n",
      "               V1        V2        V3        V4        V5        V6        V7  \\\n",
      "83806   1.236053  0.286630  0.186867  0.501575 -0.163476 -0.562945 -0.030210   \n",
      "9321    1.061989 -0.087414  1.146973  1.704821 -0.657469  0.501540 -0.683246   \n",
      "193863  2.373022 -1.355533 -1.325551 -1.693802 -0.905278 -0.519862 -1.027586   \n",
      "229423 -0.619616  0.480535 -0.069708 -0.668737  0.946775 -0.620599  1.151250   \n",
      "282611 -2.928106  2.084414  0.093552  1.084699 -0.782179  0.381218 -0.865072   \n",
      "\n",
      "              V8        V9       V10  ...       V19       V20       V21  \\\n",
      "83806  -0.029673 -0.188527 -0.110280  ...  0.215519 -0.065490 -0.258603   \n",
      "9321    0.317528  2.125357 -0.410437  ... -0.235149 -0.339817 -0.188658   \n",
      "193863 -0.227397 -1.106646  1.594906  ...  0.260985 -0.438500 -0.241407   \n",
      "229423 -0.058430  0.192752 -1.730746  ...  0.077501  0.152719 -0.120910   \n",
      "282611  1.816209 -0.315849 -0.768210  ...  1.301298 -0.310797 -0.440210   \n",
      "\n",
      "             V22       V23       V24       V25       V26       V27       V28  \n",
      "83806  -0.786773  0.077436 -0.039847  0.226115  0.097651 -0.028057  0.017120  \n",
      "9321   -0.039853 -0.027530  0.155042  0.479148 -0.321514  0.032168  0.004826  \n",
      "193863 -0.175650  0.105823 -1.030756 -0.042255 -0.097158  0.005107 -0.062663  \n",
      "229423 -0.475131  0.066009  0.429183 -0.050834 -0.147042  0.081383  0.193040  \n",
      "282611 -1.333766  0.247867  0.547729  0.599474 -0.821212 -0.359750 -0.104386  \n",
      "\n",
      "[5 rows x 28 columns]\n"
     ]
    }
   ],
   "source": [
    "# show the first five elements of X_train\n",
    "print(\"The first 5 elements of X_train are:\\n\", X_train[:5])  "
   ]
  },
  {
   "cell_type": "code",
   "execution_count": 280,
   "id": "81235c8c-2b3c-4875-9326-45d6f3f2fa05",
   "metadata": {},
   "outputs": [
    {
     "name": "stdout",
     "output_type": "stream",
     "text": [
      "The first 5 elements of X_train are:\n",
      "               V1        V2        V3        V4        V5        V6        V7  \\\n",
      "240571 -4.119614 -2.625302 -3.427816  0.742588  0.787195 -2.011271  0.245571   \n",
      "270711  1.313545 -1.266250 -1.421509  1.574286  0.040139  0.662495  0.312851   \n",
      "115125 -0.775661  0.742194  0.813272 -0.198428  1.883426  4.269919 -0.539289   \n",
      "73740   1.198189 -0.220877  0.335124 -0.105590 -0.268381  0.093669 -0.337323   \n",
      "252707  1.615339 -1.891391 -0.566731 -0.487742 -1.210596  0.696941 -1.123560   \n",
      "\n",
      "              V8        V9       V10  ...       V19       V20       V21  \\\n",
      "240571  0.775553 -0.087441 -1.370682  ... -0.045896 -1.327149 -0.174424   \n",
      "270711  0.013220  0.851643 -0.008837  ...  0.790330  0.442007 -0.137653   \n",
      "115125  1.233106  0.320917  0.041559  ...  0.958351  0.413513 -0.112725   \n",
      "73740   0.011270  0.369994 -0.232766  ... -0.258793  0.078082  0.085909   \n",
      "252707  0.229539  0.080977  0.849066  ... -0.597572 -0.028709 -0.194281   \n",
      "\n",
      "             V22       V23       V24       V25       V26       V27       V28  \n",
      "240571 -0.003020  1.428613  0.709937 -1.734395  0.141240  0.670095 -1.399829  \n",
      "270711 -0.785431 -0.203554 -1.104980  0.033029 -0.807218 -0.025972 -0.004235  \n",
      "115125 -0.090047 -0.216112  0.999534  0.217351 -0.291607  0.522783  0.248458  \n",
      "73740   0.270348 -0.140078 -0.663140  0.286615  1.145277 -0.047610  0.007722  \n",
      "252707 -0.594321  0.138231  0.075995 -0.741252  0.425213 -0.047007  0.000132  \n",
      "\n",
      "[5 rows x 28 columns]\n"
     ]
    }
   ],
   "source": [
    "# show the first five elements of X_val\n",
    "print(\"The first 5 elements of X_train are:\\n\", X_val[:5])  "
   ]
  },
  {
   "cell_type": "code",
   "execution_count": 281,
   "id": "5af834c3-3cd1-4e50-8378-62b2fc7ff000",
   "metadata": {},
   "outputs": [
    {
     "name": "stdout",
     "output_type": "stream",
     "text": [
      "The first 5 elements of X_train are:\n",
      " 240571    0\n",
      "270711    0\n",
      "115125    0\n",
      "73740     0\n",
      "252707    0\n",
      "Name: Class, dtype: int64\n"
     ]
    }
   ],
   "source": [
    "# show the first five elements of y_val\n",
    "print(\"The first 5 elements of X_train are:\\n\", y_val[:5])  "
   ]
  },
  {
   "cell_type": "code",
   "execution_count": 282,
   "id": "af2ddb52-a98e-4897-bddc-828bee0f336b",
   "metadata": {},
   "outputs": [
    {
     "name": "stdout",
     "output_type": "stream",
     "text": [
      "The shape of X_train is: (227845, 28)\n",
      "The shape of X_val is: (56962, 28)\n",
      "The shape of y_val is:  (56962,)\n"
     ]
    }
   ],
   "source": [
    "# check the dimensions of the variables\n",
    "print ('The shape of X_train is:', X_train.shape)\n",
    "print ('The shape of X_val is:', X_val.shape)\n",
    "print ('The shape of y_val is: ', y_val.shape)"
   ]
  },
  {
   "cell_type": "code",
   "execution_count": 283,
   "id": "04edadfd-932a-4883-84d3-57e9c5358665",
   "metadata": {},
   "outputs": [],
   "source": [
    "scaler = MinMaxScaler()\n",
    "X_train_scaled = scaler.fit_transform(X_train)\n",
    "X_val_scaled = scaler.transform(X_val)"
   ]
  },
  {
   "cell_type": "markdown",
   "id": "813321ee-0b6b-4a0e-b624-cc4e48c13cf5",
   "metadata": {},
   "source": [
    "### Fitting a model"
   ]
  },
  {
   "cell_type": "code",
   "execution_count": 284,
   "id": "2b7e1378-9fd0-45c5-a19e-f92f79e6284d",
   "metadata": {},
   "outputs": [],
   "source": [
    "# estimate the Gaussian distribution paramaters mu and var for each of the features\n",
    "def estimate_gaussian(X): \n",
    "\n",
    "    m, n = X.shape\n",
    "\n",
    "    mu = np.sum(X, axis = 0) / m\n",
    "    \n",
    "    var = np.sum((X - mu)**2, axis=0) / m \n",
    "        \n",
    "    return mu, var"
   ]
  },
  {
   "cell_type": "code",
   "execution_count": 285,
   "id": "45eff799-3c8d-4e68-965a-77e9cb0bda61",
   "metadata": {},
   "outputs": [],
   "source": [
    "# find the probability of each sample given the mean and variance with multivariate Gaussian distribution\n",
    "def multivariate_gaussian(X, mu, var):\n",
    "\n",
    "    # number of features\n",
    "    k = len(mu)\n",
    "\n",
    "    # if var is a 1D array, convert it into a covariance matrix with the values of var in the diagonal\n",
    "    if var.ndim == 1:\n",
    "        var = np.diag(var)\n",
    "\n",
    "    # subtract the mean vector mu from each data point\n",
    "    X_new = X - mu\n",
    "\n",
    "    # use the probability density formula to find p\n",
    "    p = (2* np.pi)**(-k/2) * np.linalg.det(var)**(-0.5) * \\\n",
    "        np.exp(-0.5 * np.sum(np.matmul(X_new, np.linalg.pinv(var)) * X_new, axis=1))\n",
    "    \n",
    "    return p"
   ]
  },
  {
   "cell_type": "code",
   "execution_count": 321,
   "id": "b80b88c7-334c-427c-8db0-6de46079d8e4",
   "metadata": {},
   "outputs": [],
   "source": [
    "# selecting the threshold of epsilon\n",
    "def select_threshold(y_val, p_val): \n",
    "\n",
    "    # initiate variables\n",
    "    best_epsilon = 0\n",
    "    best_F1 = 0\n",
    "    F1 = 0\n",
    "\n",
    "    # set the step size with a minimum threshold\n",
    "    step_size = max((max(p_val) - min(p_val)) / 1000, 1e-10)\n",
    "    \n",
    "    for epsilon in np.arange(1e-300, 0.01, step_size):\n",
    "    \n",
    "        # get list of 0s (normal) and 1s (anomaly) for whether the p_val of the sample is smaller than epsilon\n",
    "        predictions = (p_val <epsilon)\n",
    "\n",
    "        # find true positive, false positive and false negative\n",
    "        tp = np.sum ((predictions == 1) & (y_val == 1))\n",
    "        fp = np.sum ((predictions == 1) & (y_val == 0))\n",
    "        fn = np.sum ((predictions == 0) & (y_val == 1))\n",
    "\n",
    "        # calculate precision, recall and F1 scores\n",
    "        if tp + fp == 0:\n",
    "            prec = 0  \n",
    "        else:\n",
    "            prec = tp / (tp + fp)\n",
    "            \n",
    "        rec = tp / (tp + fn)\n",
    "        \n",
    "        if prec == 0:\n",
    "            F1 = 0\n",
    "        else:\n",
    "            F1 = 2 * prec * rec / (prec + rec)\n",
    "    \n",
    "        # find the best F1 score and the optimum threshold for epsilon\n",
    "        if F1 > best_F1:\n",
    "            best_F1 = F1\n",
    "            best_epsilon = epsilon\n",
    "        \n",
    "    return best_epsilon, best_F1"
   ]
  },
  {
   "cell_type": "markdown",
   "id": "c03ecb12-2cef-4dfd-bd50-786a7d7a3226",
   "metadata": {},
   "source": [
    "### Run the model on the dataset"
   ]
  },
  {
   "cell_type": "code",
   "execution_count": 322,
   "id": "fa09d166-4d19-4df8-9034-25e53f0056c2",
   "metadata": {},
   "outputs": [
    {
     "name": "stdout",
     "output_type": "stream",
     "text": [
      "Best epsilon found using cross-validation: 1.000000e-300\n",
      "Best F1 on Cross Validation Set:  0.292398\n",
      "# Anomalies found: 194\n"
     ]
    }
   ],
   "source": [
    "# estimate the Gaussian parameters\n",
    "mu_train, var_train = estimate_gaussian(X_train_scaled)\n",
    "\n",
    "# find the probabilities for each sample in the training set\n",
    "p_train = multivariate_gaussian(X_train_scaled, mu_train, var_train)\n",
    "\n",
    "# evaluate the probabilites for the cross validation set\n",
    "p_val = multivariate_gaussian(X_val_scaled, mu_train, var_train)\n",
    "\n",
    "# Find the best threshold\n",
    "epsilon, F1 = select_threshold(y_val, p_val)\n",
    "\n",
    "print('Best epsilon found using cross-validation: %e'% epsilon)\n",
    "print('Best F1 on Cross Validation Set:  %f'% F1)\n",
    "print('# Anomalies found: %d'% sum(p_train < epsilon))"
   ]
  }
 ],
 "metadata": {
  "kernelspec": {
   "display_name": "Python 3 (ipykernel)",
   "language": "python",
   "name": "python3"
  },
  "language_info": {
   "codemirror_mode": {
    "name": "ipython",
    "version": 3
   },
   "file_extension": ".py",
   "mimetype": "text/x-python",
   "name": "python",
   "nbconvert_exporter": "python",
   "pygments_lexer": "ipython3",
   "version": "3.12.3"
  }
 },
 "nbformat": 4,
 "nbformat_minor": 5
}
