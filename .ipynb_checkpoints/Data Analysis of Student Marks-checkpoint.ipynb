{
 "cells": [
  {
   "cell_type": "markdown",
   "id": "b3d785be-f7ab-413f-abc2-45c84655e01b",
   "metadata": {},
   "source": [
    "## Data Analysis of Student Marks"
   ]
  },
  {
   "cell_type": "markdown",
   "id": "f60b27a3-1113-4607-8390-52263480e5a2",
   "metadata": {},
   "source": [
    "In this project, we will do a brief analysis of a dataset of students and their exams marks given across three consecutive years.\n",
    " \n",
    "*This was performed during a university course on data exploration and analysis.*"
   ]
  },
  {
   "cell_type": "code",
   "execution_count": 43,
   "id": "d0732dce-47a3-4a0d-96e5-0f97b84de2ab",
   "metadata": {},
   "outputs": [],
   "source": [
    "#load libraries\n",
    "library(tidyr)\n",
    "library(dplyr)\n",
    "library(readr)\n",
    "#import dataset\n",
    "studentmarks <- read_csv(\"Studentmarks.csv\", show_col_types = FALSE)"
   ]
  },
  {
   "cell_type": "code",
   "execution_count": 44,
   "id": "dc689a81-14b1-425f-abdf-fad6b2dcad16",
   "metadata": {},
   "outputs": [
    {
     "data": {
      "text/html": [
       "<table class=\"dataframe\">\n",
       "<caption>A tibble: 6 × 6</caption>\n",
       "<thead>\n",
       "\t<tr><th scope=col>StudentID</th><th scope=col>Studentname</th><th scope=col>dob</th><th scope=col>2020</th><th scope=col>2021</th><th scope=col>2022</th></tr>\n",
       "\t<tr><th scope=col>&lt;dbl&gt;</th><th scope=col>&lt;chr&gt;</th><th scope=col>&lt;chr&gt;</th><th scope=col>&lt;dbl&gt;</th><th scope=col>&lt;dbl&gt;</th><th scope=col>&lt;dbl&gt;</th></tr>\n",
       "</thead>\n",
       "<tbody>\n",
       "\t<tr><td>1</td><td>Anna   </td><td>12/12/1998</td><td>75</td><td>78</td><td>85</td></tr>\n",
       "\t<tr><td>2</td><td>James  </td><td>10/08/1999</td><td>65</td><td>74</td><td>52</td></tr>\n",
       "\t<tr><td>3</td><td>Mary   </td><td>21/08/1998</td><td>56</td><td>68</td><td>90</td></tr>\n",
       "\t<tr><td>4</td><td>Antony </td><td>02/05/1999</td><td>78</td><td>65</td><td>85</td></tr>\n",
       "\t<tr><td>5</td><td>Jacob  </td><td>22/07/1998</td><td>85</td><td>78</td><td>65</td></tr>\n",
       "\t<tr><td>6</td><td>Angelin</td><td>11/05/1998</td><td>65</td><td>68</td><td>70</td></tr>\n",
       "</tbody>\n",
       "</table>\n"
      ],
      "text/latex": [
       "A tibble: 6 × 6\n",
       "\\begin{tabular}{llllll}\n",
       " StudentID & Studentname & dob & 2020 & 2021 & 2022\\\\\n",
       " <dbl> & <chr> & <chr> & <dbl> & <dbl> & <dbl>\\\\\n",
       "\\hline\n",
       "\t 1 & Anna    & 12/12/1998 & 75 & 78 & 85\\\\\n",
       "\t 2 & James   & 10/08/1999 & 65 & 74 & 52\\\\\n",
       "\t 3 & Mary    & 21/08/1998 & 56 & 68 & 90\\\\\n",
       "\t 4 & Antony  & 02/05/1999 & 78 & 65 & 85\\\\\n",
       "\t 5 & Jacob   & 22/07/1998 & 85 & 78 & 65\\\\\n",
       "\t 6 & Angelin & 11/05/1998 & 65 & 68 & 70\\\\\n",
       "\\end{tabular}\n"
      ],
      "text/markdown": [
       "\n",
       "A tibble: 6 × 6\n",
       "\n",
       "| StudentID &lt;dbl&gt; | Studentname &lt;chr&gt; | dob &lt;chr&gt; | 2020 &lt;dbl&gt; | 2021 &lt;dbl&gt; | 2022 &lt;dbl&gt; |\n",
       "|---|---|---|---|---|---|\n",
       "| 1 | Anna    | 12/12/1998 | 75 | 78 | 85 |\n",
       "| 2 | James   | 10/08/1999 | 65 | 74 | 52 |\n",
       "| 3 | Mary    | 21/08/1998 | 56 | 68 | 90 |\n",
       "| 4 | Antony  | 02/05/1999 | 78 | 65 | 85 |\n",
       "| 5 | Jacob   | 22/07/1998 | 85 | 78 | 65 |\n",
       "| 6 | Angelin | 11/05/1998 | 65 | 68 | 70 |\n",
       "\n"
      ],
      "text/plain": [
       "  StudentID Studentname dob        2020 2021 2022\n",
       "1 1         Anna        12/12/1998 75   78   85  \n",
       "2 2         James       10/08/1999 65   74   52  \n",
       "3 3         Mary        21/08/1998 56   68   90  \n",
       "4 4         Antony      02/05/1999 78   65   85  \n",
       "5 5         Jacob       22/07/1998 85   78   65  \n",
       "6 6         Angelin     11/05/1998 65   68   70  "
      ]
     },
     "metadata": {},
     "output_type": "display_data"
    }
   ],
   "source": [
    "#view dataset\n",
    "head(studentmarks)"
   ]
  },
  {
   "cell_type": "markdown",
   "id": "67845e35-a23f-4e98-951c-56cb4d48a45d",
   "metadata": {},
   "source": [
    "**Calculate the age of the students and add that as a new numeric column _age1_.**"
   ]
  },
  {
   "cell_type": "code",
   "execution_count": 45,
   "id": "861a6f71-da95-43b7-bef8-48a40142f965",
   "metadata": {},
   "outputs": [],
   "source": [
    "#change dob into date format\n",
    "studentmarks$dob<-as.Date(studentmarks$dob, format=\"%d/%m/%Y\")"
   ]
  },
  {
   "cell_type": "code",
   "execution_count": 46,
   "id": "ef869560-0c05-4cc6-a427-3e5cab9de7c0",
   "metadata": {},
   "outputs": [
    {
     "name": "stdout",
     "output_type": "stream",
     "text": [
      "\u001b[90m# A tibble: 10 × 7\u001b[39m\n",
      "   StudentID Studentname dob        `2020` `2021` `2022`  age1\n",
      "       \u001b[3m\u001b[90m<dbl>\u001b[39m\u001b[23m \u001b[3m\u001b[90m<chr>\u001b[39m\u001b[23m       \u001b[3m\u001b[90m<date>\u001b[39m\u001b[23m      \u001b[3m\u001b[90m<dbl>\u001b[39m\u001b[23m  \u001b[3m\u001b[90m<dbl>\u001b[39m\u001b[23m  \u001b[3m\u001b[90m<dbl>\u001b[39m\u001b[23m \u001b[3m\u001b[90m<dbl>\u001b[39m\u001b[23m\n",
      "\u001b[90m 1\u001b[39m         1 Anna        1998-12-12     75     78     85  26.0\n",
      "\u001b[90m 2\u001b[39m         2 James       1999-08-10     65     74     52  25.3\n",
      "\u001b[90m 3\u001b[39m         3 Mary        1998-08-21     56     68     90  26.3\n",
      "\u001b[90m 4\u001b[39m         4 Antony      1999-05-02     78     65     85  25.6\n",
      "\u001b[90m 5\u001b[39m         5 Jacob       1998-07-22     85     78     65  26.4\n",
      "\u001b[90m 6\u001b[39m         6 Angelin     1998-05-11     65     68     70  26.6\n",
      "\u001b[90m 7\u001b[39m         7 Kellie      1999-04-19     78     52     88  25.6\n",
      "\u001b[90m 8\u001b[39m         8 Jesse       1998-06-27     77     72     75  26.4\n",
      "\u001b[90m 9\u001b[39m         9 John        1998-10-15     90     87     88  26.1\n",
      "\u001b[90m10\u001b[39m        10 Therese     1998-11-06     95     85     75  26.1\n"
     ]
    }
   ],
   "source": [
    "#add new column age1 which calculates age of student in numeric form\n",
    "studentmarks$age1<- as.numeric(difftime(Sys.Date(), studentmarks$dob))/365\n",
    "print(studentmarks)"
   ]
  },
  {
   "cell_type": "markdown",
   "id": "326f850f-b016-46ba-9d7c-bbcd2fe89349",
   "metadata": {},
   "source": [
    "**Split the dob column into date month and year and then calculate the age based on the year column only and add that as a new integer column _age2_.**"
   ]
  },
  {
   "cell_type": "code",
   "execution_count": 47,
   "id": "b81a1db1-6cb2-4b5e-805e-3ff13dccda41",
   "metadata": {},
   "outputs": [],
   "source": [
    "#split into date month year\n",
    "studentmarks<-separate(studentmarks, col=dob, into=c(\"Year\", \"Month\", \"Date\"))"
   ]
  },
  {
   "cell_type": "code",
   "execution_count": 48,
   "id": "55b75f32-39b5-4c6d-9fc8-fbf8846931ec",
   "metadata": {},
   "outputs": [
    {
     "name": "stdout",
     "output_type": "stream",
     "text": [
      "\u001b[90m# A tibble: 10 × 10\u001b[39m\n",
      "   StudentID Studentname  Year Month Date  `2020` `2021` `2022`  age1  age2\n",
      "       \u001b[3m\u001b[90m<dbl>\u001b[39m\u001b[23m \u001b[3m\u001b[90m<chr>\u001b[39m\u001b[23m       \u001b[3m\u001b[90m<dbl>\u001b[39m\u001b[23m \u001b[3m\u001b[90m<chr>\u001b[39m\u001b[23m \u001b[3m\u001b[90m<chr>\u001b[39m\u001b[23m  \u001b[3m\u001b[90m<dbl>\u001b[39m\u001b[23m  \u001b[3m\u001b[90m<dbl>\u001b[39m\u001b[23m  \u001b[3m\u001b[90m<dbl>\u001b[39m\u001b[23m \u001b[3m\u001b[90m<dbl>\u001b[39m\u001b[23m \u001b[3m\u001b[90m<int>\u001b[39m\u001b[23m\n",
      "\u001b[90m 1\u001b[39m         1 Anna         \u001b[4m1\u001b[24m998 12    12        75     78     85  26.0    26\n",
      "\u001b[90m 2\u001b[39m         2 James        \u001b[4m1\u001b[24m999 08    10        65     74     52  25.3    25\n",
      "\u001b[90m 3\u001b[39m         3 Mary         \u001b[4m1\u001b[24m998 08    21        56     68     90  26.3    26\n",
      "\u001b[90m 4\u001b[39m         4 Antony       \u001b[4m1\u001b[24m999 05    02        78     65     85  25.6    25\n",
      "\u001b[90m 5\u001b[39m         5 Jacob        \u001b[4m1\u001b[24m998 07    22        85     78     65  26.4    26\n",
      "\u001b[90m 6\u001b[39m         6 Angelin      \u001b[4m1\u001b[24m998 05    11        65     68     70  26.6    26\n",
      "\u001b[90m 7\u001b[39m         7 Kellie       \u001b[4m1\u001b[24m999 04    19        78     52     88  25.6    25\n",
      "\u001b[90m 8\u001b[39m         8 Jesse        \u001b[4m1\u001b[24m998 06    27        77     72     75  26.4    26\n",
      "\u001b[90m 9\u001b[39m         9 John         \u001b[4m1\u001b[24m998 10    15        90     87     88  26.1    26\n",
      "\u001b[90m10\u001b[39m        10 Therese      \u001b[4m1\u001b[24m998 11    06        95     85     75  26.1    26\n"
     ]
    }
   ],
   "source": [
    "#calculate age based on year column\n",
    "studentmarks$Year<-as.numeric(studentmarks$Year)\n",
    "currentyear<-as.numeric(format(Sys.Date(), \"%Y\"))\n",
    "studentmarks$age2<-as.integer(currentyear - studentmarks$Year)\n",
    "print(studentmarks)"
   ]
  },
  {
   "cell_type": "markdown",
   "id": "8a6b1446-d167-4576-9618-0e0127b14a85",
   "metadata": {},
   "source": [
    "**Create a scatter plot for Studentname versus Marks of all three years on the same chart.**"
   ]
  },
  {
   "cell_type": "code",
   "execution_count": 51,
   "id": "7618deee-fd3c-441b-bb62-731359b49a86",
   "metadata": {},
   "outputs": [],
   "source": [
    "#convert wide data to long format\n",
    "studentmarks_new <- studentmarks %>%\n",
    "    pivot_longer(cols = c(`2020`, `2021`, `2022`), \n",
    "                 names_to = \"Years\", \n",
    "                 values_to = \"Marks\")"
   ]
  },
  {
   "cell_type": "code",
   "execution_count": 54,
   "id": "ba613da0-f051-49b9-b167-88ffad917274",
   "metadata": {},
   "outputs": [
    {
     "data": {
      "image/png": "[encoded data removed]",
      "text/plain": [
       "plot without title"
      ]
     },
     "metadata": {
      "image/png": {
       "height": 420,
       "width": 420
      }
     },
     "output_type": "display_data"
    }
   ],
   "source": [
    "#scatterplot of Studentname vs Marks for all three years \n",
    "library(ggplot2)\n",
    "ggplot(data=studentmarks_new, mapping=aes(x=Studentname, y=Marks, color=Years))+\n",
    "  geom_point(size=3) +\n",
    "  xlab(\"Student Names\") + \n",
    "  ylab(\"Marks\") +  \n",
    "  labs(title= \"Marks of Students across Three Years\", color=\"Year\")+\n",
    "  theme_minimal()+\n",
    "  theme(\n",
    "        plot.title = element_text(hjust = 0.5, size = 20, face = \"bold\"),\n",
    "        axis.text.x = element_text(angle = 45, hjust = 1, size = 12),\n",
    "        axis.text.y = element_text(size = 12),                            \n",
    "        axis.title.x = element_text(size = 16, face = \"bold\"),            \n",
    "        axis.title.y = element_text(size = 16, face = \"bold\"),             \n",
    "        legend.title = element_text(size = 14),                            \n",
    "        legend.text = element_text(size = 12) \n",
    "    )"
   ]
  },
  {
   "cell_type": "markdown",
   "id": "950689b6-6820-4d52-aa37-ee8f530981ad",
   "metadata": {},
   "source": [
    "**Calculate the total marks of all students and filter the who got at least 200 marks in total and create a bar chart for students vs totalmarks in the descending order of their marks.**"
   ]
  },
  {
   "cell_type": "code",
   "execution_count": 55,
   "id": "b7782da5-1857-49cc-b178-da022d1ee927",
   "metadata": {},
   "outputs": [],
   "source": [
    "#sum marks to calculate total marks\n",
    "studentmarks$totalmarks<-(studentmarks$`2020`+studentmarks$`2021`+studentmarks$`2022`)\n",
    "#filter for marks over 200\n",
    "ex <-studentmarks %>% filter(totalmarks>=200)\n",
    "#arrange students in descending order by marks\n",
    "ex2 <-arrange(ex, desc(totalmarks)) %>% mutate(Studentname=factor(Studentname, levels=Studentname))"
   ]
  },
  {
   "cell_type": "code",
   "execution_count": 74,
   "id": "fa154bba-a139-47de-95fc-14d90bf65b9d",
   "metadata": {},
   "outputs": [
    {
     "data": {
      "image/png": "[encoded data removed]",
      "text/plain": [
       "plot without title"
      ]
     },
     "metadata": {
      "image/png": {
       "height": 420,
       "width": 420
      }
     },
     "output_type": "display_data"
    }
   ],
   "source": [
    "#plot barchart\n",
    "ggplot(ex2, aes(x=Studentname, y=totalmarks))+\n",
    "  geom_col(fill='cornflowerblue')+\n",
    "  xlab(\"Student\")+\n",
    "  ylab(\"Total Marks\")+\n",
    "  theme_minimal()+\n",
    "  ggtitle(\"Students Who Got Total Marks Over 200\")+\n",
    "  theme(plot.title = element_text(hjust = 0.5, size = 20, face = \"bold\"),\n",
    "        axis.text.x = element_text(angle = 45, hjust = 1, size = 12),\n",
    "        axis.text.y = element_text(size = 14),     \n",
    "        axis.title.x = element_text(size = 16, face = \"bold\"),            \n",
    "        axis.title.y = element_text(size = 16, face = \"bold\", margin = margin(r = 10)),  \n",
    "        )"
   ]
  },
  {
   "cell_type": "code",
   "execution_count": null,
   "id": "da25f265-d2e5-4871-8c58-2dda468669ca",
   "metadata": {},
   "outputs": [],
   "source": []
  }
 ],
 "metadata": {
  "kernelspec": {
   "display_name": "R",
   "language": "R",
   "name": "ir"
  },
  "language_info": {
   "codemirror_mode": "r",
   "file_extension": ".r",
   "mimetype": "text/x-r-source",
   "name": "R",
   "pygments_lexer": "r",
   "version": "4.4.0"
  }
 },
 "nbformat": 4,
 "nbformat_minor": 5
}
