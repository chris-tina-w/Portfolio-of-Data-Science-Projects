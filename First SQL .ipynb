{
 "cells": [
  {
   "cell_type": "code",
   "execution_count": 3,
   "id": "01d8f0bf-50ea-48eb-8eb0-2ed9ed766b55",
   "metadata": {},
   "outputs": [],
   "source": [
    "%load_ext sql"
   ]
  },
  {
   "cell_type": "code",
   "execution_count": 2,
   "id": "da5878bb-3304-4cb5-a021-aae1af6cf7be",
   "metadata": {},
   "outputs": [],
   "source": [
    "import pandas as pd"
   ]
  },
  {
   "cell_type": "code",
   "execution_count": 10,
   "id": "847251d9-0f18-4ce8-9c4e-7c23e8ea6d6a",
   "metadata": {},
   "outputs": [
    {
     "name": "stdout",
     "output_type": "stream",
     "text": [
      "✅ Successfully connected to MySQL!\n"
     ]
    }
   ],
   "source": [
    "# connect to the MySQL database\n",
    "import mysql.connector\n",
    "import os\n",
    "\n",
    "try:\n",
    "    database_connect = mysql.connector.connect(\n",
    "        host='localhost',\n",
    "        user='root',\n",
    "        password=os.getenv('MYSQL_PASSWORD'),\n",
    "        database='ecomm'\n",
    "    )\n",
    "    print(\"✅ Successfully connected to MySQL!\")\n",
    "\n",
    "    cursor = database_connect.cursor()\n",
    "\n",
    "except mysql.connector.Error as err:\n",
    "    print(f\"❌ Error: {err}\")"
   ]
  },
  {
   "cell_type": "code",
   "execution_count": 3,
   "id": "8786f82c-8a41-4de4-9c29-da823aab78bf",
   "metadata": {},
   "outputs": [],
   "source": [
    "# list of CSV files and their corresponding table names\n",
    "csv_files = [\n",
    "    ('work.csv', 'work'),\n",
    "    ('artist.csv', 'artist'),\n",
    "    ('canvas_size.csv', 'canvas_size'),\n",
    "    ('image_link.csv', 'image_link'),\n",
    "    ('museum.csv', 'museum'),\n",
    "    ('museum_hours.csv', 'museum_hours'),\n",
    "    ('product_size.csv', 'product_size'),\n",
    "    ('subject.csv', 'subject')\n",
    "]"
   ]
  },
  {
   "cell_type": "code",
   "execution_count": 11,
   "id": "9c1277ba-d291-4aef-bb82-aebdddf7fe6a",
   "metadata": {},
   "outputs": [
    {
     "name": "stdout",
     "output_type": "stream",
     "text": [
      "Processing work.csv\n",
      "NaN values before replacement:\n",
      "work_id          0\n",
      "name             0\n",
      "artist_id        0\n",
      "style         1286\n",
      "museum_id    10223\n",
      "dtype: int64\n",
      "\n",
      "Processing artist.csv\n",
      "NaN values before replacement:\n",
      "artist_id         0\n",
      "full_name         0\n",
      "first_name        0\n",
      "middle_names    273\n",
      "last_name         0\n",
      "nationality       0\n",
      "style             0\n",
      "birth             0\n",
      "death             0\n",
      "dtype: int64\n",
      "\n",
      "Processing canvas_size.csv\n",
      "NaN values before replacement:\n",
      "size_id    0\n",
      "width      0\n",
      "height     7\n",
      "label      0\n",
      "dtype: int64\n",
      "\n",
      "Processing image_link.csv\n",
      "NaN values before replacement:\n",
      "work_id                0\n",
      "url                    0\n",
      "thumbnail_small_url    2\n",
      "thumbnail_large_url    2\n",
      "dtype: int64\n",
      "\n",
      "Processing museum.csv\n",
      "NaN values before replacement:\n",
      "museum_id     0\n",
      "name          0\n",
      "address       0\n",
      "city          0\n",
      "state        19\n",
      "postal        7\n",
      "country       0\n",
      "phone         0\n",
      "url           0\n",
      "dtype: int64\n",
      "\n",
      "Processing museum_hours.csv\n",
      "NaN values before replacement:\n",
      "museum_id    0\n",
      "day          0\n",
      "open         0\n",
      "close        0\n",
      "dtype: int64\n",
      "\n",
      "Processing product_size.csv\n",
      "NaN values before replacement:\n",
      "work_id          0\n",
      "size_id          0\n",
      "sale_price       0\n",
      "regular_price    0\n",
      "dtype: int64\n",
      "\n",
      "Processing subject.csv\n",
      "NaN values before replacement:\n",
      "work_id    0\n",
      "subject    0\n",
      "dtype: int64\n",
      "\n"
     ]
    }
   ],
   "source": [
    "def get_sql_type(dtype):\n",
    "    if pd.api.types.is_integer_dtype(dtype):\n",
    "        return 'INT'\n",
    "    elif pd.api.types.is_float_dtype(dtype):\n",
    "        return 'FLOAT'\n",
    "    elif pd.api.types.is_bool_dtype(dtype):\n",
    "        return 'BOOLEAN'\n",
    "    elif pd.api.types.is_datetime64_any_dtype(dtype):\n",
    "        return 'DATETIME'\n",
    "    else:\n",
    "        return 'TEXT'\n",
    "\n",
    "for csv_file, table_name in csv_files:\n",
    "    file_path = csv_file\n",
    "    \n",
    "    # read the CSV file into a pandas DataFrame\n",
    "    df = pd.read_csv(file_path)\n",
    "    \n",
    "    # fill Nan's with None for SQL to mark as Null\n",
    "    df = df.astype(object).where(pd.notnull(df), None)\n",
    "    \n",
    "    # show the number of missing values found\n",
    "    print(f\"Processing {csv_file}\")\n",
    "    print(f\"NaN values before replacement:\\n{df.isnull().sum()}\\n\")\n",
    "\n",
    "    # clean column names\n",
    "    df.columns = [col.replace(' ', '_').replace('-', '_').replace('.', '_') for col in df.columns]\n",
    "\n",
    "    # generate the CREATE TABLE statement with appropriate data types\n",
    "    columns = ', '.join([f'`{col}` {get_sql_type(df[col].dtype)}' for col in df.columns])\n",
    "    create_table_query = f'CREATE TABLE IF NOT EXISTS `{table_name}` ({columns})'\n",
    "    cursor.execute(create_table_query)\n",
    "\n",
    "    # insert DataFrame data into the MySQL table\n",
    "    for _, row in df.iterrows():\n",
    "        values = tuple(None if pd.isna(x) else x for x in row)\n",
    "        sql = f\"INSERT INTO `{table_name}` ({', '.join(['`' + col + '`' for col in df.columns])}) VALUES ({', '.join(['%s'] * len(row))})\"\n",
    "        cursor.execute(sql, values)\n",
    "        \n",
    "    # commit the transaction for the current CSV file\n",
    "    database_connect.commit()"
   ]
  },
  {
   "cell_type": "code",
   "execution_count": 15,
   "id": "5c6840e5-06ef-4649-b19c-b8eb291dfe18",
   "metadata": {},
   "outputs": [
    {
     "name": "stdout",
     "output_type": "stream",
     "text": [
      "('160228', 'Still Life with Flowers and a Watch', '615', 'Baroque', '43.0')\n",
      "('160236', \"Still Life with Fruit and a Beaker on a Cock's Foot\", '615', 'Baroque', '43.0')\n",
      "('160244', 'Still Life with Fruit and a Goldfinch', '615', 'Baroque', '43.0')\n",
      "('160252', 'Still Life with Fruit and Oysters', '615', 'Baroque', '43.0')\n",
      "('160260', 'Still Life with Fruit, Oysters, and a Porcelain Bowl', '615', 'Baroque', '43.0')\n"
     ]
    }
   ],
   "source": [
    "cursor.execute(f\"SELECT * FROM Work LIMIT 5;\")\n",
    "for row in cursor.fetchall():\n",
    "    print(row)"
   ]
  },
  {
   "cell_type": "code",
   "execution_count": null,
   "id": "a25c4204-fdfb-4aaa-b549-43c91ebb5073",
   "metadata": {},
   "outputs": [],
   "source": [
    "# close the connection\n",
    "database_connect.close()"
   ]
  }
 ],
 "metadata": {
  "kernelspec": {
   "display_name": "Python 3 (ipykernel)",
   "language": "python",
   "name": "python3"
  },
  "language_info": {
   "codemirror_mode": {
    "name": "ipython",
    "version": 3
   },
   "file_extension": ".py",
   "mimetype": "text/x-python",
   "name": "python",
   "nbconvert_exporter": "python",
   "pygments_lexer": "ipython3",
   "version": "3.12.3"
  }
 },
 "nbformat": 4,
 "nbformat_minor": 5
}
